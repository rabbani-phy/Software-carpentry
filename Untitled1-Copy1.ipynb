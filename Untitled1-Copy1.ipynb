{
 "cells": [
  {
   "cell_type": "code",
   "execution_count": 2,
   "metadata": {
    "collapsed": false
   },
   "outputs": [
    {
     "name": "stdout",
     "output_type": "stream",
     "text": [
      "what year were you born? hello\n",
      "you did not provide a year in the form of an integer.\n"
     ]
    }
   ],
   "source": [
    "#here we r going to pla the program\n",
    "#open the zodiac description\n",
    "\n",
    "ZodiacText = open('zodiacDescriptions.txt','r')\n",
    "#for thing in ZodiacText\n",
    "\n",
    "#print(thing)     \n",
    "\n",
    "\n",
    "#read the file. We are going to make a list with each line of the file\n",
    "#as a list item\n",
    "Zodiaclist = []\n",
    "for animal in ZodiacText:\n",
    "    if animal != '\\n':\n",
    "        Zodiaclist.append(animal)\n",
    "        \n",
    "#close the file\n",
    "ZodiacText.close()\n",
    "\n",
    "#print(Zodiaclist)\n",
    "\n",
    "#ask the user for input\n",
    "#we're just going to assign a variable for moment. come back later\n",
    "try:\n",
    "    birthYear = int(input(\"what year were you born? \"))\n",
    "    zodiacIndex = (birthYear - 4) % 12\n",
    "    print(\"your chinese zodiac animal is a \", Zodiaclist [zodiacIndex])\n",
    "\n",
    "except ValueError:\n",
    "       print (\"you did not provide a year in the form of an integer.\")\n",
    "\n",
    "#birthYear = int(birthYear)\n",
    "\n",
    "#birthYear = 1985\n",
    "\n",
    "#do some fancy figuring stuff out (little bit of math)\n",
    "#list is not in correct order. fix by substarcting birthyear by 4\n",
    "\n",
    "\n",
    "\n",
    "#print(zodiacIndex)\n",
    "\n",
    "#tell user the result\n",
    "\n",
    "#for  in Zodiaclist\n",
    "\n",
    "# repeat\n"
   ]
  },
  {
   "cell_type": "code",
   "execution_count": null,
   "metadata": {
    "collapsed": true
   },
   "outputs": [],
   "source": []
  },
  {
   "cell_type": "code",
   "execution_count": null,
   "metadata": {
    "collapsed": true
   },
   "outputs": [],
   "source": []
  }
 ],
 "metadata": {
  "kernelspec": {
   "display_name": "Python 3",
   "language": "python",
   "name": "python3"
  },
  "language_info": {
   "codemirror_mode": {
    "name": "ipython",
    "version": 3
   },
   "file_extension": ".py",
   "mimetype": "text/x-python",
   "name": "python",
   "nbconvert_exporter": "python",
   "pygments_lexer": "ipython3",
   "version": "3.4.3"
  }
 },
 "nbformat": 4,
 "nbformat_minor": 0
}
