{
 "cells": [
  {
   "cell_type": "code",
   "execution_count": 1,
   "metadata": {
    "collapsed": false
   },
   "outputs": [
    {
     "name": "stdout",
     "output_type": "stream",
     "text": [
      "what year were you born? 19+85\n",
      "you did not provide a year in the form of an integer.\n"
     ]
    }
   ],
   "source": [
    "#here we r going to pla the program\n",
    "\n",
    "#zodiacSetup will do all the opening, loading and closing of files/data\n",
    "#it will return zodiac list\n",
    "def zodiacSetup():\n",
    "    #open the zodiac description\n",
    "    ZodiacText = open('zodiacDescriptions.txt','r')\n",
    "  \n",
    "    #read the file. We are going to make a list with each line of the file\n",
    "    #as a list item\n",
    "    ZodiaclistTemp = []\n",
    "    for animal in ZodiacText:\n",
    "        if animal != '\\n':\n",
    "            ZodiaclistTemp.append(animal)\n",
    "\n",
    "    #close the file. although its ok here to have it at teh end\n",
    "    ZodiacText.close()\n",
    "    \n",
    "    return ZodiaclistTemp\n",
    "    #zodiac calculation will collect the birth year and determine the chinese\n",
    "    #zodiac sign and then display \n",
    "    \n",
    "def ZodiacCalculation():\n",
    "\n",
    "#ask the user for input\n",
    "#we're just going to assign a variable for moment. come back later\n",
    "    birthYear=input(\"what year were you born? \")\n",
    "    try:\n",
    "        birthYear = int(birthYear)\n",
    "\n",
    "    #print(zodiacIndex)\n",
    "\n",
    "    #tell user the result\n",
    "\n",
    "    #for  in Zodiaclist\n",
    "    #list is not in correct order. fix by substarcting birthyear by 4\n",
    "    \n",
    "        zodiacIndex = (birthYear - 4) % 12\n",
    "        print(\"your chinese zodiac animal is a \", Zodiaclist [zodiacIndex])\n",
    "        \n",
    "    except ValueError:\n",
    "        print (\"you did not provide a year in the form of an integer.\")\n",
    "    return birthYear\n",
    "\n",
    "# repeat\n",
    "Zodiaclist = zodiacSetup()\n",
    "birthYear = 0\n",
    "while type(birthYear) is int:\n",
    "    birthYear = ZodiacCalculation()\n"
   ]
  },
  {
   "cell_type": "code",
   "execution_count": null,
   "metadata": {
    "collapsed": true
   },
   "outputs": [],
   "source": []
  },
  {
   "cell_type": "code",
   "execution_count": null,
   "metadata": {
    "collapsed": true
   },
   "outputs": [],
   "source": []
  }
 ],
 "metadata": {
  "kernelspec": {
   "display_name": "Python 3",
   "language": "python",
   "name": "python3"
  },
  "language_info": {
   "codemirror_mode": {
    "name": "ipython",
    "version": 3
   },
   "file_extension": ".py",
   "mimetype": "text/x-python",
   "name": "python",
   "nbconvert_exporter": "python",
   "pygments_lexer": "ipython3",
   "version": "3.4.3"
  }
 },
 "nbformat": 4,
 "nbformat_minor": 0
}
